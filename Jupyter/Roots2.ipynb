{
  "cells": [
    {
      "cell_type": "markdown",
      "metadata": {
        "id": "bZ-oTCpFsSjX"
      },
      "source": [
        "Importamos bilbiotecas"
      ]
    },
    {
      "cell_type": "markdown",
      "metadata": {
        "id": "hDoTrYfG4Y1E"
      },
      "source": [
        "# Calculo de raíces por Python\n",
        "### Determinar las raíces del siguiente Polinomio\n",
        "\n",
        "\\begin{align*}\n",
        "\t\t|H(jw)|^2=H|(j(-s)^2)|^2=H(s)H(-s) &= \\dfrac{s^{4}+1}{-s^{2}(s^{4}-6s^{2}+25)}\\\\\n",
        "\\end{align*}"
      ]
    },
    {
      "cell_type": "code",
      "execution_count": 1,
      "metadata": {
        "id": "ER_uzEIqZsnX"
      },
      "outputs": [],
      "source": [
        "import numpy as np\n",
        "import sympy as sym\n",
        "import scipy.signal as signal\n",
        "import matplotlib.pyplot as plt\n",
        "#from numpy.polynomial import polynomial as P"
      ]
    },
    {
      "cell_type": "markdown",
      "metadata": {
        "id": "0RYvEpgmsanW"
      },
      "source": [
        "Especificamos el numerador y denominador"
      ]
    },
    {
      "cell_type": "code",
      "execution_count": null,
      "metadata": {
        "id": "ut4DCyGbqqJR"
      },
      "outputs": [],
      "source": [
        "(z, p, k) = chev"
      ]
    },
    {
      "cell_type": "code",
      "execution_count": null,
      "metadata": {
        "colab": {
          "base_uri": "https://localhost:8080/"
        },
        "id": "KBpXg6u6KX31",
        "outputId": "9c1ec9ed-d1cf-4a99-eeec-375ce59d2d66"
      },
      "outputs": [
        {
          "name": "stdout",
          "output_type": "stream",
          "text": [
            "[ 1.00000000e+00  0.00000000e+00  5.08124001e-07  4.44089210e-16\n",
            "  2.25404400e-06 -4.44089210e-16  5.08124001e-07  0.00000000e+00\n",
            "  1.00000000e+00]\n"
          ]
        }
      ],
      "source": [
        "den1 = [1,2.613126,3.414214,2.613126,1]\n",
        "den2 = [1,-2.613126,3.414214,-2.613126,1]\n",
        "den= np.polymul(den1,den2)\n",
        "print(den)\n",
        "#den_ro=1-(1/den)\n",
        "#print(den_ro)"
      ]
    },
    {
      "cell_type": "code",
      "execution_count": null,
      "metadata": {
        "id": "kHnpaUk0shB6"
      },
      "outputs": [],
      "source": [
        "num = [1,0,-9]\n",
        "den = [1,0,3,0,12,0,-100]\n",
        "#den_1 = [-1, 0, 0]\n",
        "#den_2 = [1, 0, -6, 0, 25]\n",
        "#den= np.polymul(den_1,den_2)"
      ]
    },
    {
      "cell_type": "markdown",
      "metadata": {
        "id": "BtB8QExotHc3"
      },
      "source": [
        "Calculamos sus raíces"
      ]
    },
    {
      "cell_type": "code",
      "execution_count": null,
      "metadata": {
        "colab": {
          "base_uri": "https://localhost:8080/"
        },
        "id": "dq04_kX7tGhe",
        "outputId": "6d506c90-e399-4f35-e5b6-d8f42c44d19b"
      },
      "outputs": [
        {
          "name": "stdout",
          "output_type": "stream",
          "text": [
            "Las raíces del numerador: \n",
            " [-3.  3.]\n",
            "Las raíces del denominador: \n",
            " [-1.12527883+2.08588385j -1.12527883-2.08588385j -1.78025783+0.j\n",
            "  1.12527883+2.08588385j  1.12527883-2.08588385j  1.78025783+0.j        ]\n"
          ]
        }
      ],
      "source": [
        "roots_num = np.roots(num)\n",
        "roots_den = np.roots(den)\n",
        "print('Las raíces del numerador: \\n', roots_num)\n",
        "print('Las raíces del denominador: \\n', roots_den)"
      ]
    },
    {
      "cell_type": "markdown",
      "metadata": {
        "id": "YrC4riiAHoo4"
      },
      "source": [
        "Calculamos el polinomio resultante del denominador $H(s)$, es decir $Q(s)$"
      ]
    },
    {
      "cell_type": "code",
      "execution_count": null,
      "metadata": {
        "colab": {
          "base_uri": "https://localhost:8080/",
          "height": 159
        },
        "id": "X_9m1zPs6s8I",
        "outputId": "1c79f1e0-e5b7-43eb-ab6c-59753c8a4859"
      },
      "outputs": [
        {
          "ename": "NameError",
          "evalue": "name 'roots_num' is not defined",
          "output_type": "error",
          "traceback": [
            "\u001b[0;31m---------------------------------------------------------------------------\u001b[0m",
            "\u001b[0;31mNameError\u001b[0m                                 Traceback (most recent call last)",
            "\u001b[0;32m<ipython-input-4-f666dcd03f15>\u001b[0m in \u001b[0;36m<cell line: 1>\u001b[0;34m()\u001b[0m\n\u001b[0;32m----> 1\u001b[0;31m \u001b[0mpoly_num\u001b[0m\u001b[0;34m=\u001b[0m\u001b[0mnp\u001b[0m\u001b[0;34m.\u001b[0m\u001b[0mpoly\u001b[0m\u001b[0;34m(\u001b[0m\u001b[0;34m(\u001b[0m\u001b[0mroots_num\u001b[0m\u001b[0;34m[\u001b[0m\u001b[0;36m0\u001b[0m\u001b[0;34m]\u001b[0m\u001b[0;34m,\u001b[0m \u001b[0mroots_num\u001b[0m\u001b[0;34m[\u001b[0m\u001b[0;36m1\u001b[0m\u001b[0;34m]\u001b[0m\u001b[0;34m,\u001b[0m\u001b[0mroots_num\u001b[0m\u001b[0;34m[\u001b[0m\u001b[0;36m2\u001b[0m\u001b[0;34m]\u001b[0m\u001b[0;34m,\u001b[0m\u001b[0mroots_num\u001b[0m\u001b[0;34m[\u001b[0m\u001b[0;36m3\u001b[0m\u001b[0;34m]\u001b[0m\u001b[0;34m)\u001b[0m\u001b[0;34m)\u001b[0m\u001b[0;34m\u001b[0m\u001b[0;34m\u001b[0m\u001b[0m\n\u001b[0m\u001b[1;32m      2\u001b[0m \u001b[0mprint\u001b[0m\u001b[0;34m(\u001b[0m\u001b[0mpoly_num\u001b[0m\u001b[0;34m)\u001b[0m\u001b[0;34m\u001b[0m\u001b[0;34m\u001b[0m\u001b[0m\n",
            "\u001b[0;31mNameError\u001b[0m: name 'roots_num' is not defined"
          ]
        }
      ],
      "source": [
        "poly_num=np.poly((roots_num[0], roots_num[1],roots_num[2],roots_num[3]))\n",
        "print(poly_num)"
      ]
    },
    {
      "cell_type": "code",
      "execution_count": null,
      "metadata": {
        "colab": {
          "base_uri": "https://localhost:8080/"
        },
        "id": "Jo1csySH_QtQ",
        "outputId": "2cdb8766-0ffa-412f-fcee-7ffaf75dd17c"
      },
      "outputs": [
        {
          "name": "stdout",
          "output_type": "stream",
          "text": [
            "[1.         2.61312593 3.41421356 2.61312593 1.        ]\n"
          ]
        }
      ],
      "source": [
        "poly_den=np.poly((roots_den[0], roots_den[1], roots_den[2],roots_den[3]))\n",
        "print(poly_den)"
      ]
    },
    {
      "cell_type": "markdown",
      "metadata": {
        "id": "Lv_Z3EtcIS7h"
      },
      "source": [
        "Calculamos el polinomio resultante del numerador $𝐻(𝑠)$, es decir $P(𝑠)$"
      ]
    },
    {
      "cell_type": "code",
      "execution_count": null,
      "metadata": {
        "colab": {
          "base_uri": "https://localhost:8080/"
        },
        "id": "fNVMEmS4H3Zp",
        "outputId": "3fffece3-d888-49a5-84a9-57818777d390"
      },
      "outputs": [
        {
          "name": "stdout",
          "output_type": "stream",
          "text": [
            "[1.         1.41421356 1.        ]\n"
          ]
        }
      ],
      "source": [
        "poly_num=np.poly((roots_num[0], roots_num[1]))\n",
        "print(poly_num)"
      ]
    },
    {
      "cell_type": "markdown",
      "metadata": {
        "id": "He2ve9zU7keS"
      },
      "source": [
        "## Ejercicio\n",
        "###Obtener la función de red a partir de la función de magnitud elevada al cuadrado.\n",
        "\n",
        "\\begin{align*}\n",
        "\t\t|H(j\\omega)|^{2} &=\\dfrac{\\omega^{2}+9}{\\omega^{6}-3\\omega^{4}+12\\omega^{2}+100}\\\\\n",
        "\\end{align*}\n",
        "\n",
        "\n",
        "Transformar utilizando $\\omega=s/j$ o en su defecto $\\omega=-s^2$\n",
        "\\begin{align*}\n",
        "\t\t|H(s)||H(-s)| &=\\dfrac{-s^{2}+9}{-s^{6}-3s^{4}-12s^{2}+100}\\\\\n",
        "\\end{align*}\n",
        "Operando\n",
        "\\begin{align*}\n",
        "\t\t|H(s)||H(-s)| &=\\dfrac{s^{2}-9}{s^{6}+3s^{4}+12s^{2}-100}\\\\\n",
        "\\end{align*}\n",
        "\n"
      ]
    },
    {
      "cell_type": "code",
      "execution_count": 12,
      "metadata": {
        "id": "6NoQ1QjiYxkL"
      },
      "outputs": [],
      "source": [
        "num = [-1, 0 ,0,0,0,0,0.36]\n",
        "den = [-1, 0, 0, 0, 0, 0, 1]"
      ]
    },
    {
      "cell_type": "code",
      "execution_count": 13,
      "metadata": {
        "colab": {
          "base_uri": "https://localhost:8080/",
          "height": 193
        },
        "id": "RZTXobLvcpf1",
        "outputId": "2d1e0aa6-5e89-4cdc-87d7-d69bbbd566e0"
      },
      "outputs": [
        {
          "name": "stdout",
          "output_type": "stream",
          "text": [
            "Las raíces del numerador: \n",
            " [-0.84343267+0.j         -0.42171633+0.73043411j -0.42171633-0.73043411j\n",
            "  0.42171633+0.73043411j  0.42171633-0.73043411j  0.84343267+0.j        ]\n",
            "Las raíces del denominador: \n",
            " [-1. +0.j        -0.5+0.8660254j -0.5-0.8660254j  0.5+0.8660254j\n",
            "  0.5-0.8660254j  1. +0.j       ]\n"
          ]
        }
      ],
      "source": [
        "roots_num = np.roots(num)\n",
        "roots_den = np.roots(den)\n",
        "print('Las raíces del numerador: \\n', roots_num)\n",
        "print('Las raíces del denominador: \\n', roots_den)"
      ]
    },
    {
      "cell_type": "code",
      "execution_count": 14,
      "metadata": {
        "colab": {
          "base_uri": "https://localhost:8080/"
        },
        "id": "QJ2lPOjKeoAM",
        "outputId": "c0cc553e-7150-46a7-ff64-06d72765089e"
      },
      "outputs": [
        {
          "name": "stdout",
          "output_type": "stream",
          "text": [
            "[1. 2. 2. 1.]\n"
          ]
        }
      ],
      "source": [
        "poly_den=np.poly((roots_den[0], roots_den[1], roots_den[2]))\n",
        "print(poly_den)"
      ]
    },
    {
      "cell_type": "code",
      "execution_count": 15,
      "metadata": {},
      "outputs": [
        {
          "name": "stdout",
          "output_type": "stream",
          "text": [
            "[1.         1.68686533 1.42275732 0.6       ]\n"
          ]
        }
      ],
      "source": [
        "poly_num=np.poly((roots_num[0], roots_num[1], roots_num[2]))\n",
        "print(poly_num)"
      ]
    },
    {
      "cell_type": "markdown",
      "metadata": {
        "id": "9ccLvOAuGOCv"
      },
      "source": [
        "# Función de red Filtro Pasa-Bajos Buttworth normalizado\n"
      ]
    },
    {
      "cell_type": "code",
      "execution_count": 16,
      "metadata": {
        "id": "MAas06nFGWc6"
      },
      "outputs": [],
      "source": [
        "import numpy as np\n",
        "import sympy as sym\n",
        "import scipy.signal as signal\n",
        "import matplotlib.pyplot as plt\n",
        "#from numpy.polynomial import polynomial as P"
      ]
    },
    {
      "cell_type": "markdown",
      "metadata": {
        "id": "nLgFlCkaK4MS"
      },
      "source": [
        "z = ceros,\n",
        "p = polos,\n",
        "k = Ganancia,"
      ]
    },
    {
      "cell_type": "code",
      "execution_count": 17,
      "metadata": {
        "colab": {
          "base_uri": "https://localhost:8080/"
        },
        "id": "BcIXILNUGqEF",
        "outputId": "e8afc014-c5a9-4405-8ce1-a38b06d68bc5"
      },
      "outputs": [
        {
          "name": "stdout",
          "output_type": "stream",
          "text": [
            "Polos del Butterworth \n",
            " [-0.5+0.8660254j -1. -0.j        -0.5-0.8660254j]\n",
            "Ceros del Butterworth \n",
            " []\n",
            "K del Butterworth \n",
            " 1\n"
          ]
        }
      ],
      "source": [
        "#(z,p,k)=signal.buttap(N)\n",
        "(z,p,k)=signal.buttap(3) # Polinomio Butterworth normalizado orden 4\n",
        "print('Polos del Butterworth \\n',p)\n",
        "print('Ceros del Butterworth \\n',z)\n",
        "print('K del Butterworth \\n',k)"
      ]
    },
    {
      "cell_type": "code",
      "execution_count": 18,
      "metadata": {
        "colab": {
          "base_uri": "https://localhost:8080/"
        },
        "id": "pTkRmnPCKD-O",
        "outputId": "e690428a-1e14-428b-e586-c63ec5fb02c9"
      },
      "outputs": [
        {
          "name": "stdout",
          "output_type": "stream",
          "text": [
            "[1. 2. 2. 1.]\n"
          ]
        }
      ],
      "source": [
        "poly_Butt=np.poly(p)\n",
        "print(poly_Butt)"
      ]
    },
    {
      "cell_type": "code",
      "execution_count": 19,
      "metadata": {
        "colab": {
          "base_uri": "https://localhost:8080/",
          "height": 807
        },
        "id": "wjUKTRkS4Lco",
        "outputId": "37a2b285-f655-473e-b5b6-9e265b6b7575"
      },
      "outputs": [
        {
          "ename": "NameError",
          "evalue": "name 'control' is not defined",
          "output_type": "error",
          "traceback": [
            "\u001b[31m---------------------------------------------------------------------------\u001b[39m",
            "\u001b[31mNameError\u001b[39m                                 Traceback (most recent call last)",
            "\u001b[36mCell\u001b[39m\u001b[36m \u001b[39m\u001b[32mIn[19]\u001b[39m\u001b[32m, line 1\u001b[39m\n\u001b[32m----> \u001b[39m\u001b[32m1\u001b[39m G = \u001b[43mcontrol\u001b[49m.tf(\u001b[32m1\u001b[39m,poly_Butt)\n\u001b[32m      2\u001b[39m \u001b[38;5;28mprint\u001b[39m(G)\n\u001b[32m      3\u001b[39m mag,phase,omega = control.bode(G)\n",
            "\u001b[31mNameError\u001b[39m: name 'control' is not defined"
          ]
        }
      ],
      "source": [
        "G = control.tf(1,poly_Butt)\n",
        "print(G)\n",
        "mag,phase,omega = control.bode(G)"
      ]
    },
    {
      "cell_type": "markdown",
      "metadata": {
        "id": "IADaLwm5KxUU"
      },
      "source": [
        "# Función de red Filtro Pasa-Bajos Chebyshev normalizado"
      ]
    },
    {
      "cell_type": "code",
      "execution_count": null,
      "metadata": {
        "id": "iptOJRVJLCD5"
      },
      "outputs": [],
      "source": [
        "#scipy.signal.cheb1ap(N, rp)"
      ]
    },
    {
      "cell_type": "code",
      "execution_count": null,
      "metadata": {
        "id": "Bm3qEro5p4Wa"
      },
      "outputs": [],
      "source": [
        "import numpy as np\n",
        "import sympy as sym\n",
        "import scipy.signal as signal\n",
        "import matplotlib.pyplot as plt\n",
        "#from numpy.polynomial import polynomial as P"
      ]
    },
    {
      "cell_type": "markdown",
      "metadata": {
        "id": "sHcTYgHtrJOv"
      },
      "source": [
        "rp[dB] atenuación banda de paso,\n",
        "rs[dB] atenuación banda de rechazo"
      ]
    },
    {
      "cell_type": "code",
      "execution_count": null,
      "metadata": {
        "colab": {
          "base_uri": "https://localhost:8080/"
        },
        "id": "eLMuYIkpsi_H",
        "outputId": "9cab0ac6-b50b-413d-cc32-b554c357a20d"
      },
      "outputs": [
        {
          "name": "stdout",
          "output_type": "stream",
          "text": [
            "[-0.31322824+1.02192749j -0.62645649-0.j         -0.31322824-1.02192749j]\n",
            "[]\n",
            "0.7156937903107974\n"
          ]
        }
      ],
      "source": [
        "(z,p,k)=signal.cheb1ap(3, 0.5)\n",
        "print(p)\n",
        "print(z)\n",
        "print(k)"
      ]
    },
    {
      "cell_type": "code",
      "execution_count": null,
      "metadata": {
        "colab": {
          "base_uri": "https://localhost:8080/",
          "height": 683
        },
        "id": "2iYrO7aSs2Au",
        "outputId": "3716aac6-b14f-457c-f8b4-0adffdf5bb8b"
      },
      "outputs": [
        {
          "name": "stdout",
          "output_type": "stream",
          "text": [
            "[1.         1.25291297 1.53489546 0.71569379]\n",
            "<TransferFunction>: sys[0]\n",
            "Inputs (1): ['u[0]']\n",
            "Outputs (1): ['y[0]']\n",
            "\n",
            "\n",
            "              0.7157\n",
            "----------------------------------\n",
            "s^3 + 1.253 s^2 + 1.535 s + 0.7157\n",
            "\n"
          ]
        },
        {
          "data": {
            "text/plain": [
              "<control.ctrlplot.ControlPlot at 0x7b6bde041c00>"
            ]
          },
          "execution_count": 14,
          "metadata": {},
          "output_type": "execute_result"
        },
        {
          "data": {
            "image/png": "[encoded data removed]",
            "text/plain": [
              "<Figure size 640x480 with 2 Axes>"
            ]
          },
          "metadata": {},
          "output_type": "display_data"
        }
      ],
      "source": [
        "den = np.poly(p)\n",
        "print(den)\n",
        "\n",
        "H = control.tf(k, den)\n",
        "print(H)\n",
        "control.bode_plot(H, dB=True, Hz=True)"
      ]
    },
    {
      "cell_type": "code",
      "execution_count": null,
      "metadata": {
        "colab": {
          "base_uri": "https://localhost:8080/"
        },
        "id": "hvEEsDklt5aT",
        "outputId": "92c806ef-12e9-41e3-cab9-667aa893e998"
      },
      "outputs": [
        {
          "name": "stdout",
          "output_type": "stream",
          "text": [
            "[-0.31328275+1.02193526j -0.31328275-1.02193526j -0.62643449+0.j        ]\n"
          ]
        }
      ],
      "source": [
        "den=[1,1.253,1.535,0.7157]\n",
        "raices = np.roots(den)\n",
        "print(raices)"
      ]
    },
    {
      "cell_type": "code",
      "execution_count": null,
      "metadata": {
        "colab": {
          "base_uri": "https://localhost:8080/"
        },
        "id": "q9fwWzb_unI5",
        "outputId": "16a2e346-f617-45e3-fc6d-92e945ad8bc1"
      },
      "outputs": [
        {
          "name": "stdout",
          "output_type": "stream",
          "text": [
            "<TransferFunction>: sys[2]\n",
            "Inputs (1): ['u[0]']\n",
            "Outputs (1): ['y[0]']\n",
            "\n",
            "\n",
            "    1\n",
            "---------\n",
            "s + 1.069\n",
            "\n",
            "<TransferFunction>: sys[3]\n",
            "Inputs (1): ['u[0]']\n",
            "Outputs (1): ['y[0]']\n",
            "\n",
            "\n",
            "        0.7157\n",
            "----------------------\n",
            "s^2 + 0.6266 s + 1.142\n",
            "\n"
          ]
        }
      ],
      "source": [
        "den2=np.poly((raices[0], raices[1]))\n",
        "den1=(1,-raices[1])\n",
        "H1=control.tf(1, den1)\n",
        "H2=control.tf(k, den2)\n",
        "print(H1)\n",
        "print(H2)\n"
      ]
    },
    {
      "cell_type": "code",
      "execution_count": null,
      "metadata": {
        "colab": {
          "base_uri": "https://localhost:8080/"
        },
        "id": "WvhWbyiZp-U0",
        "outputId": "d5c78186-c8e5-441a-9c02-f11c2d9324d0"
      },
      "outputs": [
        {
          "name": "stdout",
          "output_type": "stream",
          "text": [
            "Polos\n",
            " [-0.31322824+1.02192749j -0.62645649-0.j         -0.31322824-1.02192749j]\n",
            "Ganancia K\n",
            " 0.7156937903107974\n"
          ]
        }
      ],
      "source": [
        "#(z,p,k)=signal.cheb1ap(N, rp)\n",
        "#(z,p,k)=signal.cheb2ap(N, rs)\n",
        "(z,p,k)=signal.cheb1ap(3, 0.5) # Polinomio Chebyshev normalizado orden 4 y rp=0.75\n",
        "print('Polos\\n',p)\n",
        "print('Ganancia K\\n',k)"
      ]
    },
    {
      "cell_type": "code",
      "execution_count": null,
      "metadata": {
        "colab": {
          "base_uri": "https://localhost:8080/"
        },
        "id": "2CazPIOyqZd6",
        "outputId": "10b33e09-2f90-49f5-9a75-adf1061a828e"
      },
      "outputs": [
        {
          "name": "stdout",
          "output_type": "stream",
          "text": [
            "[1.         1.25291297 1.53489546 0.71569379]\n"
          ]
        }
      ],
      "source": [
        "poly_Cheby1=np.poly(p)\n",
        "print(poly_Cheby1)"
      ]
    },
    {
      "cell_type": "code",
      "execution_count": null,
      "metadata": {
        "colab": {
          "base_uri": "https://localhost:8080/"
        },
        "id": "hFHCTnNVBnBK",
        "outputId": "b12f8262-02a9-4bdb-e38d-2e2a8efd11d4"
      },
      "outputs": [
        {
          "name": "stdout",
          "output_type": "stream",
          "text": [
            "[1.         0.62645649 1.14244773]\n"
          ]
        }
      ],
      "source": [
        "poly_den=np.poly((p[0], p[2]))\n",
        "print(poly_den)"
      ]
    },
    {
      "cell_type": "code",
      "execution_count": null,
      "metadata": {
        "colab": {
          "base_uri": "https://localhost:8080/",
          "height": 159
        },
        "id": "ZPhS4ehFCK9a",
        "outputId": "b9d5b346-db00-4cdd-c64a-79382fe14f00"
      },
      "outputs": [
        {
          "ename": "NameError",
          "evalue": "name 'roots_den' is not defined",
          "output_type": "error",
          "traceback": [
            "\u001b[0;31m---------------------------------------------------------------------------\u001b[0m",
            "\u001b[0;31mNameError\u001b[0m                                 Traceback (most recent call last)",
            "\u001b[0;32m<ipython-input-23-95602186c18b>\u001b[0m in \u001b[0;36m<cell line: 1>\u001b[0;34m()\u001b[0m\n\u001b[0;32m----> 1\u001b[0;31m \u001b[0mpoly_den\u001b[0m\u001b[0;34m=\u001b[0m\u001b[0mnp\u001b[0m\u001b[0;34m.\u001b[0m\u001b[0mpoly\u001b[0m\u001b[0;34m(\u001b[0m\u001b[0;34m(\u001b[0m\u001b[0mroots_den\u001b[0m\u001b[0;34m[\u001b[0m\u001b[0;36m0\u001b[0m\u001b[0;34m]\u001b[0m\u001b[0;34m,\u001b[0m \u001b[0mroots_den\u001b[0m\u001b[0;34m[\u001b[0m\u001b[0;36m1\u001b[0m\u001b[0;34m]\u001b[0m\u001b[0;34m,\u001b[0m \u001b[0mroots_den\u001b[0m\u001b[0;34m[\u001b[0m\u001b[0;36m2\u001b[0m\u001b[0;34m]\u001b[0m\u001b[0;34m)\u001b[0m\u001b[0;34m)\u001b[0m\u001b[0;34m\u001b[0m\u001b[0;34m\u001b[0m\u001b[0m\n\u001b[0m\u001b[1;32m      2\u001b[0m \u001b[0mprint\u001b[0m\u001b[0;34m(\u001b[0m\u001b[0mpoly_den\u001b[0m\u001b[0;34m)\u001b[0m\u001b[0;34m\u001b[0m\u001b[0;34m\u001b[0m\u001b[0m\n",
            "\u001b[0;31mNameError\u001b[0m: name 'roots_den' is not defined"
          ]
        }
      ],
      "source": [
        "poly_den=np.poly((roots_den[0], roots_den[1], roots_den[2]))\n",
        "print(poly_den)"
      ]
    },
    {
      "cell_type": "code",
      "execution_count": null,
      "metadata": {
        "colab": {
          "base_uri": "https://localhost:8080/"
        },
        "id": "z2gbwLs1DF1E",
        "outputId": "13c82ab1-4d71-469b-bf7e-db51198bfdf2"
      },
      "outputs": [
        {
          "name": "stdout",
          "output_type": "stream",
          "text": [
            "[ 1.        +0.j          0.867299  -2.82961934j -2.35098593-1.59062251j\n",
            " -0.68034923+0.54854037j]\n"
          ]
        }
      ],
      "source": [
        "den = np.polymul(p[0], poly_den)\n",
        "print(np.poly(den))"
      ]
    },
    {
      "cell_type": "code",
      "execution_count": null,
      "metadata": {
        "colab": {
          "base_uri": "https://localhost:8080/",
          "height": 807
        },
        "id": "wH9ZwZJn7EaM",
        "outputId": "071cf4be-9519-46dd-8582-0ff41380940b"
      },
      "outputs": [
        {
          "name": "stdout",
          "output_type": "stream",
          "text": [
            "<TransferFunction>: sys[4]\n",
            "Inputs (1): ['u[0]']\n",
            "Outputs (1): ['y[0]']\n",
            "\n",
            "\n",
            "              0.7157\n",
            "----------------------------------\n",
            "s^3 + 1.253 s^2 + 1.535 s + 0.7157\n",
            "\n"
          ]
        },
        {
          "ename": "TypeError",
          "evalue": "iter() returned non-iterator of type 'numpy.ndarray'",
          "output_type": "error",
          "traceback": [
            "\u001b[0;31m---------------------------------------------------------------------------\u001b[0m",
            "\u001b[0;31mTypeError\u001b[0m                                 Traceback (most recent call last)",
            "\u001b[0;32m<ipython-input-25-21312b4f6ac0>\u001b[0m in \u001b[0;36m<cell line: 3>\u001b[0;34m()\u001b[0m\n\u001b[1;32m      1\u001b[0m \u001b[0mG\u001b[0m \u001b[0;34m=\u001b[0m \u001b[0mcontrol\u001b[0m\u001b[0;34m.\u001b[0m\u001b[0mtf\u001b[0m\u001b[0;34m(\u001b[0m\u001b[0mk\u001b[0m\u001b[0;34m,\u001b[0m \u001b[0mpoly_Cheby1\u001b[0m\u001b[0;34m)\u001b[0m\u001b[0;34m\u001b[0m\u001b[0;34m\u001b[0m\u001b[0m\n\u001b[1;32m      2\u001b[0m \u001b[0mprint\u001b[0m\u001b[0;34m(\u001b[0m\u001b[0mG\u001b[0m\u001b[0;34m)\u001b[0m\u001b[0;34m\u001b[0m\u001b[0;34m\u001b[0m\u001b[0m\n\u001b[0;32m----> 3\u001b[0;31m \u001b[0mmag\u001b[0m\u001b[0;34m,\u001b[0m\u001b[0mphase\u001b[0m\u001b[0;34m,\u001b[0m\u001b[0momega\u001b[0m \u001b[0;34m=\u001b[0m \u001b[0mcontrol\u001b[0m\u001b[0;34m.\u001b[0m\u001b[0mbode\u001b[0m\u001b[0;34m(\u001b[0m\u001b[0mG\u001b[0m\u001b[0;34m,\u001b[0m \u001b[0mcolor\u001b[0m\u001b[0;34m=\u001b[0m\u001b[0;34m'yellow'\u001b[0m \u001b[0;34m)\u001b[0m\u001b[0;34m\u001b[0m\u001b[0;34m\u001b[0m\u001b[0m\n\u001b[0m",
            "\u001b[0;31mTypeError\u001b[0m: iter() returned non-iterator of type 'numpy.ndarray'"
          ]
        },
        {
          "data": {
            "image/png": "[encoded data removed]",
            "text/plain": [
              "<Figure size 640x480 with 2 Axes>"
            ]
          },
          "metadata": {},
          "output_type": "display_data"
        }
      ],
      "source": [
        "G = control.tf(k, poly_Cheby1)\n",
        "print(G)\n",
        "mag,phase,omega = control.bode(G, color='yellow' )"
      ]
    }
  ],
  "metadata": {
    "colab": {
      "provenance": []
    },
    "kernelspec": {
      "display_name": "Python 3",
      "language": "python",
      "name": "python3"
    },
    "language_info": {
      "codemirror_mode": {
        "name": "ipython",
        "version": 3
      },
      "file_extension": ".py",
      "mimetype": "text/x-python",
      "name": "python",
      "nbconvert_exporter": "python",
      "pygments_lexer": "ipython3",
      "version": "3.13.0"
    }
  },
  "nbformat": 4,
  "nbformat_minor": 0
}
