{
 "cells": [
  {
   "cell_type": "markdown",
   "id": "360d7f8f",
   "metadata": {},
   "source": [
    "# CALCULADORA DE RAICES DE POLINOMIOS "
   ]
  },
  {
   "cell_type": "code",
   "execution_count": 2,
   "id": "bd3aed5f",
   "metadata": {},
   "outputs": [],
   "source": [
    "import numpy as np\n",
    "import sympy as sym\n",
    "import scipy.signal as signal\n",
    "import matplotlib.pyplot as plt\n",
    "#from numpy.polynomial import polynomial as P"
   ]
  },
  {
   "cell_type": "code",
   "execution_count": 3,
   "id": "35d530b4",
   "metadata": {},
   "outputs": [],
   "source": [
    "num = [-1, 0 ,0 ,0 ,0 , 0 , 0.36]\n",
    "den = [-1, 0, 0, 0, 0, 0, 1]"
   ]
  },
  {
   "cell_type": "code",
   "execution_count": 4,
   "id": "17629144",
   "metadata": {},
   "outputs": [
    {
     "name": "stdout",
     "output_type": "stream",
     "text": [
      "Las raíces del numerador: \n",
      " [-0.84343267+0.j         -0.42171633+0.73043411j -0.42171633-0.73043411j\n",
      "  0.42171633+0.73043411j  0.42171633-0.73043411j  0.84343267+0.j        ]\n",
      "Las raíces del denominador: \n",
      " [-1. +0.j        -0.5+0.8660254j -0.5-0.8660254j  0.5+0.8660254j\n",
      "  0.5-0.8660254j  1. +0.j       ]\n"
     ]
    }
   ],
   "source": [
    "roots_num = np.roots(num)\n",
    "roots_den = np.roots(den)\n",
    "print('Las raíces del numerador: \\n', roots_num)\n",
    "print('Las raíces del denominador: \\n', roots_den)"
   ]
  },
  {
   "cell_type": "markdown",
   "id": "b2ab6f42",
   "metadata": {},
   "source": [
    "# MULTIPLICADORA DE RAICES"
   ]
  },
  {
   "cell_type": "code",
   "execution_count": 5,
   "id": "c005ecb5",
   "metadata": {},
   "outputs": [
    {
     "name": "stdout",
     "output_type": "stream",
     "text": [
      "[1. 2. 2. 1.]\n"
     ]
    }
   ],
   "source": [
    "poly_den=np.poly((roots_den[0], roots_den[1], roots_den[2]))\n",
    "print(poly_den)"
   ]
  },
  {
   "cell_type": "code",
   "execution_count": 6,
   "id": "5b33fcdf",
   "metadata": {},
   "outputs": [
    {
     "name": "stdout",
     "output_type": "stream",
     "text": [
      "[1.         1.68686533 1.42275732 0.6       ]\n"
     ]
    }
   ],
   "source": [
    "poly_num=np.poly((roots_num[0], roots_num[1],roots_num[2]))\n",
    "print(poly_num)"
   ]
  },
  {
   "cell_type": "markdown",
   "id": "64646d18",
   "metadata": {},
   "source": [
    "\\begin{align*}\n",
    "\t\t\\rho(s)&= \\dfrac{s^{3}+1.68s^2+1.42s+0.6}{s^{3}+2s^{2}+2s+1}\\\\\n",
    "\\end{align*}"
   ]
  },
  {
   "cell_type": "markdown",
   "id": "e73667bf",
   "metadata": {},
   "source": [
    "# $$CALCULO DE Z_{11}$$"
   ]
  },
  {
   "cell_type": "code",
   "execution_count": 7,
   "id": "ff4697f6",
   "metadata": {},
   "outputs": [
    {
     "name": "stdout",
     "output_type": "stream",
     "text": [
      "(2.0*s**3 + 3.68*s**2 + 3.42*s + 1.6)/(0.32*s**2 + 0.58*s + 0.4)\n"
     ]
    }
   ],
   "source": [
    "# INGRESO\n",
    "s = sym.Symbol('s')\n",
    "#t = sym.Symbol('t',real=True)\n",
    "\n",
    "Hs = ((s-3)/(s+1))*(1/(s**2+4*s+8))\n",
    "\n",
    "rho=(s**3+1.68*s**2+1.42*s+0.6)/(s**3+2*s**2+2*s+1)\n",
    "Z11 = sym.simplify((1+rho)/(1-rho))\n",
    "print(Z11)"
   ]
  },
  {
   "cell_type": "code",
   "execution_count": 8,
   "id": "7b512dcc",
   "metadata": {},
   "outputs": [
    {
     "name": "stdout",
     "output_type": "stream",
     "text": [
      "Cociente de la división:\n",
      "[6.25     0.171875]\n",
      "Residuo de la división:\n",
      "[0.8203125 1.53125  ]\n"
     ]
    }
   ],
   "source": [
    "\n",
    "# Definir los polinomios (coeficientes en orden descendente de grado)\n",
    "num = [2,3.68,3.42,1.6]\n",
    "den = [0.32,0.58,0.4]\n",
    "\n",
    "# División de polinomios\n",
    "cociente, residuo = np.polydiv(num, den)\n",
    "\n",
    "print(\"Cociente de la división:\")\n",
    "print(cociente)\n",
    "print(\"Residuo de la división:\")\n",
    "print(residuo)\n"
   ]
  }
 ],
 "metadata": {
  "kernelspec": {
   "display_name": "Python 3",
   "language": "python",
   "name": "python3"
  },
  "language_info": {
   "codemirror_mode": {
    "name": "ipython",
    "version": 3
   },
   "file_extension": ".py",
   "mimetype": "text/x-python",
   "name": "python",
   "nbconvert_exporter": "python",
   "pygments_lexer": "ipython3",
   "version": "3.12.5"
  }
 },
 "nbformat": 4,
 "nbformat_minor": 5
}
