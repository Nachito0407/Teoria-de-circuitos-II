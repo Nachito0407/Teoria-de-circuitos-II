{
 "cells": [
  {
   "cell_type": "code",
   "execution_count": 3,
   "metadata": {},
   "outputs": [
    {
     "name": "stdout",
     "output_type": "stream",
     "text": [
      "cos(11*acos(w))\n",
      "1024*w**11 - 2816*w**9 + 2816*w**7 - 1232*w**5 + 220*w**3 - 11*w\n"
     ]
    }
   ],
   "source": [
    "from sympy import symbols, cos, acos, expand\n",
    "\n",
    "w = symbols('w')\n",
    "Cll = cos(11 * acos(w))\n",
    "print(Cll)\n",
    "Cll = expand(Cll, trig=True)\n",
    "print(Cll)"
   ]
  }
 ],
 "metadata": {
  "kernelspec": {
   "display_name": "Python 3",
   "language": "python",
   "name": "python3"
  },
  "language_info": {
   "codemirror_mode": {
    "name": "ipython",
    "version": 3
   },
   "file_extension": ".py",
   "mimetype": "text/x-python",
   "name": "python",
   "nbconvert_exporter": "python",
   "pygments_lexer": "ipython3",
   "version": "3.13.0"
  }
 },
 "nbformat": 4,
 "nbformat_minor": 2
}
